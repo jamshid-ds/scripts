{
 "cells": [
  {
   "cell_type": "markdown",
   "metadata": {},
   "source": [
    "1. +gsp_persons.birth_year\n",
    "2. +gsp_persons.birth_region_id\n",
    "3. +gsp_persons.living_region_id\n",
    "4. +doesLive_birth_region ( 0,1 )\n",
    "5. +gsp_persons.nationality_id\n",
    "6. +gsp_persons.sex_id\n",
    "7. +mib_orders 3 types -> ( jarayonda, tugallangan, yo'q )\n",
    "8. -work (ishli yoki yo'q)\n",
    "9. +zags 3 types -> (turmush qurgan, turmush qurmagan, ajrashgan, vagot etgan )\n",
    "10. +ma'lumoti ( oliy, o'rta, unknown )\n",
    "11. +Qarindoshlar orasida defendantlar bor yoki yo'qligi\n",
    "(ota-ona, aka-uka-opa-singil, opa-singillarning-turmush-o'rtog'i, ota-onaning-aka-uka,opa-singillari) (3 labels: parents, siblings, siblings of parents, ---- husband of sisters, childrens of siblings of parents)\n",
    "12. +mashinalari soni (YHXX.tech_passport)\n",
    "13. +jinoyat ko'p sodir bo'ladigan joyga bog'liqligi\n",
    "14. +isviolent(oldin zo'ravonlik qilgan yoki yo'qligi, agar pinppi iv_violence bo'lsa-1)\n",
    "15. +administrative.pinpp (mamuriy ja'zo qo'llanganmi)\n",
    "17. +bandlik pinpp check (searcher+worker,retraining listlardan birortasida bor yoki yo'qligi)\n",
    "18. +agar bandlik tableda bo'lsa oyligini tekshirish(yo'q bo'lsa 0 yoki oylik miqdori)\n",
    "19. +iiv.emi ga tushganmi (pinpp bor yoki yo'qligi)?\n",
    "21. +isviolence bo'yicha yashash joylari sortlanadi\n",
    "22. -Mashina oldi sottishini tekshirish(buy_count, sell_count)\n",
    "23. +zags_Count, divorce_count\n",
    "22. +Farzandlari soni"
   ]
  },
  {
   "cell_type": "code",
   "execution_count": 1,
   "metadata": {},
   "outputs": [],
   "source": [
    "import pandas as pd\n",
    "import numpy as np\n",
    "import clickhouse_connect\n",
    "import bisect\n",
    "import random\n",
    "from typing import List, Tuple, Optional"
   ]
  },
  {
   "cell_type": "code",
   "execution_count": 2,
   "metadata": {},
   "outputs": [],
   "source": [
    "host = \"play.clickhouse.com\"\n",
    "port = 443\n",
    "user = \"explorer\"\n",
    "password = \"\""
   ]
  },
  {
   "cell_type": "code",
   "execution_count": 29,
   "metadata": {},
   "outputs": [],
   "source": [
    "def get_function_simple(column_name, table_name):\n",
    "    query = \"\"\"SELECT {column_name}  FROM {table_name}\"\"\"\n",
    "    \n",
    "    client = clickhouse_connect.get_client(host=host, port=port, user=user, password=password)\n",
    "    result = client.query(query)\n",
    "    client.close()\n",
    "\n",
    "    return result.result_rows"
   ]
  },
  {
   "cell_type": "markdown",
   "metadata": {},
   "source": [
    "Getting all pinpp of defendants"
   ]
  },
  {
   "cell_type": "code",
   "execution_count": 3,
   "metadata": {},
   "outputs": [],
   "source": [
    "def get_all_pinpp_of_defendant():\n",
    "    query = \"\"\"SELECT defendant_pinfl  FROM defendants\n",
    "WHERE toDate(defendant_provision_date) >= '2022-03-31'\n",
    "ORDER BY defendant_provision_date DESC\n",
    "\"\"\"\n",
    "    \n",
    "    client = clickhouse_connect.get_client(host=host, port=port, user=user, password=password)\n",
    "    result = client.query(query)\n",
    "    client.close()\n",
    "\n",
    "    return result.result_rows"
   ]
  },
  {
   "cell_type": "markdown",
   "metadata": {},
   "source": [
    "Getting limited pinpp for training"
   ]
  },
  {
   "cell_type": "code",
   "execution_count": 5,
   "metadata": {},
   "outputs": [],
   "source": [
    "defendants_pinpp_all = get_all_pinpp_of_defendant()\n",
    "defendants_pinpp_limited = defendants_pinpp_all[:1000]"
   ]
  },
  {
   "cell_type": "markdown",
   "metadata": {},
   "source": [
    "Getting normal humans pinpp for training"
   ]
  },
  {
   "cell_type": "code",
   "execution_count": 6,
   "metadata": {},
   "outputs": [],
   "source": [
    "def get_pinpp_of_normal_humans(not_get_pinfl_list, limit=100000):\n",
    "    excluded_pinpps = \", \".join([f\"'{pinpp}'\" for pinpp in not_get_pinfl_list])\n",
    "    \n",
    "    query = f\"\"\"\n",
    "    SELECT OriginAirportID\n",
    "    FROM ontime\n",
    "    WHERE OriginAirportID NOT IN ({excluded_pinpps})\n",
    "    LIMIT {limit}\n",
    "    \"\"\"\n",
    "\n",
    "    client = clickhouse_connect.get_client(\n",
    "        host=host,\n",
    "        port=port,\n",
    "        user=user,\n",
    "        password=password,\n",
    "        secure=True \n",
    "    )\n",
    "    \n",
    "    result = client.query(query)\n",
    "    client.close() \n",
    "    return result.result_rows"
   ]
  },
  {
   "cell_type": "code",
   "execution_count": 8,
   "metadata": {},
   "outputs": [],
   "source": [
    "# Getting normal humans pinpp\n",
    "normal_pinpp_all = get_pinpp_of_normal_humans(not_get_pinfl_list=defendants_pinpp_all, limit=1000)"
   ]
  },
  {
   "cell_type": "markdown",
   "metadata": {},
   "source": [
    "Getting main overall pinpp and defendant label dataframe"
   ]
  },
  {
   "cell_type": "code",
   "execution_count": 10,
   "metadata": {},
   "outputs": [],
   "source": [
    "df_def = pd.DataFrame()\n",
    "df_def[\"pinpp\"] = defendants_pinpp_limited\n",
    "df_def[\"defendant\"] = 1\n",
    "\n",
    "df_normal = pd.DataFrame()\n",
    "df_normal[\"pinpp\"] = normal_pinpp_all\n",
    "df_normal[\"defendant\"] = 0\n",
    "\n",
    "df_main = pd.concat([df_def, df_normal], ignore_index=True)\n",
    "df_main = df_main.sample(frac=1)"
   ]
  },
  {
   "cell_type": "code",
   "execution_count": 11,
   "metadata": {},
   "outputs": [],
   "source": [
    "pinpp_list = df_main[\"pinpp\"].tolist()"
   ]
  },
  {
   "cell_type": "markdown",
   "metadata": {},
   "source": [
    "### GETTING datas by pinpp"
   ]
  },
  {
   "cell_type": "code",
   "execution_count": 14,
   "metadata": {},
   "outputs": [],
   "source": [
    "def main_function_toget_by_pinpp(pinpp_list, column_name, table_name):\n",
    "    pinpp_values = ', '.join(f\"'{pinpp}'\" for pinpp in pinpp_list)\n",
    "    query = f\"\"\"\n",
    "    SELECT {column_name}\n",
    "    FROM {table_name}\n",
    "    WHERE pinpp IN ({pinpp_values})\n",
    "    \"\"\"\n",
    "    \n",
    "    client = clickhouse_connect.get_client(\n",
    "        host=host,\n",
    "        port=port,\n",
    "        user=user,\n",
    "        password=password,\n",
    "        secure=True \n",
    "    )\n",
    "    \n",
    "    result = client.query(query)\n",
    "    client.close() \n",
    "    return result.result_rows"
   ]
  },
  {
   "cell_type": "markdown",
   "metadata": {},
   "source": [
    "BIRTH YEAR -1"
   ]
  },
  {
   "cell_type": "code",
   "execution_count": 20,
   "metadata": {},
   "outputs": [],
   "source": [
    "birth_year_list = main_function_toget_by_pinpp(pinpp_list, \"birth_year\", 'gsp_persons')"
   ]
  },
  {
   "cell_type": "markdown",
   "metadata": {},
   "source": [
    "BIRTH_REGION_ID - 2"
   ]
  },
  {
   "cell_type": "code",
   "execution_count": 21,
   "metadata": {},
   "outputs": [],
   "source": [
    "birth_region_id = main_function_toget_by_pinpp(pinpp_list, \"birth_region_id\", 'gsp_persons')"
   ]
  },
  {
   "cell_type": "markdown",
   "metadata": {},
   "source": [
    "LIVING_REGION_ID -3"
   ]
  },
  {
   "cell_type": "code",
   "execution_count": 23,
   "metadata": {},
   "outputs": [],
   "source": [
    "living_region_id = main_function_toget_by_pinpp(pinpp_list, 'living_region_id', 'gsp_persons')"
   ]
  },
  {
   "cell_type": "markdown",
   "metadata": {},
   "source": [
    "DOES LIVE IN BIRTH REGION - 4"
   ]
  },
  {
   "cell_type": "code",
   "execution_count": 22,
   "metadata": {},
   "outputs": [],
   "source": [
    "# doeslive_in_birth_region =[]\n",
    "# for index in len(range(pinpp_list)):\n",
    "#     if birth_region_id[index] == region_id[index]:\n",
    "#         doeslive_in_birth_region.append(1)\n",
    "#     else:\n",
    "#         doeslive_in_birth_region.append(0)"
   ]
  },
  {
   "cell_type": "markdown",
   "metadata": {},
   "source": [
    "Nationality id - 5"
   ]
  },
  {
   "cell_type": "code",
   "execution_count": 18,
   "metadata": {},
   "outputs": [],
   "source": [
    "nationality_id = main_function_toget_by_pinpp(pinpp_list, \"nationality_id\", \"gsp_persons\")"
   ]
  },
  {
   "cell_type": "markdown",
   "metadata": {},
   "source": [
    "SEX ID - 6"
   ]
  },
  {
   "cell_type": "code",
   "execution_count": 19,
   "metadata": {},
   "outputs": [],
   "source": [
    "# sex_id = main_function_toget_by_pinpp(pinpp, \"sex_id\", \"gsp_persons\")"
   ]
  },
  {
   "cell_type": "markdown",
   "metadata": {},
   "source": [
    "MIB ORDERS - 7"
   ]
  },
  {
   "cell_type": "code",
   "execution_count": 25,
   "metadata": {},
   "outputs": [],
   "source": [
    "list_mib_pinpp = main_function_toget_by_pinpp(pinpp_list, \"mib_orders\",'pinpp')\n",
    "list_mib_status = main_function_toget_by_pinpp(pinpp_list, \"mib_orders\",'doc_status_id')\n",
    "final_list_miborder = []\n",
    "for t in range(len(pinpp_list)):\n",
    "    if pinpp_list[t] not in list_mib_pinpp:\n",
    "        final_list_miborder.append(0)\n",
    "    else:\n",
    "        if list_mib_status[list_mib_pinpp.index(pinpp_list[t])] == 'yopilgan':\n",
    "            final_list_miborder.append(1)\n",
    "        else:\n",
    "            final_list_miborder.append(2)"
   ]
  },
  {
   "cell_type": "markdown",
   "metadata": {},
   "source": [
    "ZAGS - 9"
   ]
  },
  {
   "cell_type": "code",
   "execution_count": 26,
   "metadata": {},
   "outputs": [],
   "source": [
    "result_list_zags = []\n",
    "\n",
    "marriage_husband_pinpp = main_function_toget_by_pinpp(pinpp_list,\"husband_pinpp\", \"zags_marriage\")\n",
    "marriage_wife_pinpp = main_function_toget_by_pinpp(pinpp_list,\"wife_pinpp\", \"zags_marriage\")\n",
    "overall_marriage_pinpp = marriage_wife_pinpp + marriage_husband_pinpp\n",
    "\n",
    "divorce_husband_pinpp = main_function_toget_by_pinpp(pinpp_list,\"husband_pinpp\", \"zags_divorce\")\n",
    "divorce_wife_pinpp = main_function_toget_by_pinpp(pinpp_list,\"wife_pinpp\", \"zags_divorce\")\n",
    "overall_divorce_pinpp = divorce_wife_pinpp + divorce_husband_pinpp\n",
    "\n",
    "death_husband_pinpp = main_function_toget_by_pinpp(pinpp_list,\"husband_pinpp\", \"zags_death\")\n",
    "death_wife_pinpp = main_function_toget_by_pinpp(pinpp_list,\"wife_pinpp\", \"zags_death\")\n",
    "overall_death_pinpp = death_husband_pinpp + death_wife_pinpp\n",
    "\n",
    "# 1-turmush qurgan, 2-turmush qurmagan, 3-ajrashgan, 4-vafot etgan\n",
    "\n",
    "for index in pinpp_list:\n",
    "    if index in overall_divorce_pinpp:\n",
    "        result_list_zags.append(3)\n",
    "    elif index in overall_death_pinpp:\n",
    "        result_list_zags.append(4)\n",
    "    elif index in overall_marriage_pinpp:\n",
    "        result_list_zags.append(1)\n",
    "    else:\n",
    "        result_list_zags.append(2)"
   ]
  },
  {
   "cell_type": "markdown",
   "metadata": {},
   "source": [
    "Is violent - 14"
   ]
  },
  {
   "cell_type": "code",
   "execution_count": 30,
   "metadata": {},
   "outputs": [],
   "source": [
    "violents_list = get_function_simple('pinpp', \"iiv_violence\")\n",
    "\n",
    "result_list_violents = []\n",
    "for pinpp in pinpp_list:\n",
    "    if pinpp in violents_list:\n",
    "        result_list_violents.append(1)\n",
    "    else:\n",
    "        result_list_violents.append(0)\n"
   ]
  },
  {
   "cell_type": "markdown",
   "metadata": {},
   "source": [
    "check administrative pinpp - 15"
   ]
  },
  {
   "cell_type": "code",
   "execution_count": 31,
   "metadata": {},
   "outputs": [],
   "source": [
    "administrative_list = get_function_simple('pinpp', \"administrative\")\n",
    "\n",
    "result_list_adms = []\n",
    "\n",
    "for pinpp in pinpp_list:\n",
    "    if pinpp in administrative_list:\n",
    "        result_list_adms.append(1)\n",
    "    else:\n",
    "        result_list_adms.append(0)"
   ]
  },
  {
   "cell_type": "markdown",
   "metadata": {},
   "source": [
    "bandlik checking - 17, salary - 18"
   ]
  },
  {
   "cell_type": "code",
   "execution_count": 33,
   "metadata": {},
   "outputs": [],
   "source": [
    "bandlik_1 = get_function_simple('pinpp', \"bandlik_1\")\n",
    "bandlik_2 = get_function_simple('pinpp', \"bandlik_2\")\n",
    "\n",
    "salart_1 = get_function_simple('pinpp', \"salart_1\")\n",
    "salary_2 = get_function_simple('pinpp', \"salary_2\")\n",
    "\n",
    "overall_bandlik = bandlik_1+bandlik_2\n",
    "overall_salary = salart_1+salary_2\n",
    "\n",
    "result_list_bandlik = []\n",
    "salary = []\n",
    "\n",
    "for pinpp in pinpp_list:\n",
    "    if pinpp in overall_bandlik:\n",
    "        result_list_bandlik.append(1)\n",
    "        salary.append(overall_salary[overall_bandlik.index(pinpp)])\n",
    "    else:\n",
    "        result_list_bandlik.append(0)"
   ]
  },
  {
   "cell_type": "markdown",
   "metadata": {},
   "source": [
    "ivv_emi checking - 19"
   ]
  },
  {
   "cell_type": "code",
   "execution_count": 34,
   "metadata": {},
   "outputs": [],
   "source": [
    "iiv_emi = get_function_simple('pinpp', \"ii_emi\")\n",
    "\n",
    "iiv_emi_list = []\n",
    "\n",
    "for pinpp in pinpp_list:\n",
    "    if pinpp in iiv_emi:\n",
    "        iiv_emi_list.append(1)\n",
    "    else:\n",
    "        iiv_emi_list.append(0)"
   ]
  },
  {
   "cell_type": "markdown",
   "metadata": {},
   "source": [
    "Zags Count, Divorce Count - 23"
   ]
  },
  {
   "cell_type": "code",
   "execution_count": 35,
   "metadata": {},
   "outputs": [],
   "source": [
    "zags_list = get_function_simple('pinpp', \"zags_marriage\")\n",
    "divorce_list = get_function_simple('pinpp', \"zags_divorce\")\n",
    "\n",
    "result_list_zags_count = []\n",
    "result_list_divorce_count = []\n",
    "\n",
    "for index_marriage in pinpp_list:\n",
    "    result_list_zags_count.append(zags_list.count(index_marriage))\n",
    "\n",
    "for index_divorce in pinpp_list:\n",
    "    result_list_divorce_count.append(divorce_list.count(index_divorce))\n"
   ]
  },
  {
   "cell_type": "markdown",
   "metadata": {},
   "source": [
    "Ma'lumoti - 10"
   ]
  },
  {
   "cell_type": "code",
   "execution_count": 1,
   "metadata": {},
   "outputs": [],
   "source": [
    "def get_education_by_pinpp(pinpp_list):\n",
    "    client = clickhouse_connect.get_client(host, port,user,password)\n",
    "\n",
    "    pinpp_values = \"', '\".join(pinpp_list)  \n",
    "    query = f\"\"\"\n",
    "        SELECT \n",
    "            p.pinpp, \n",
    "            COALESCE(m.refEducationDegreeName, '0') AS education_degree\n",
    "        FROM \n",
    "            (SELECT arrayJoin(['{pinpp_values}']) AS pinpp) AS p\n",
    "        LEFT JOIN \n",
    "            mvd_statistics AS m\n",
    "        ON \n",
    "            p.pinpp = m.pinpp\n",
    "    \"\"\"\n",
    "\n",
    "    result = client.query(query).result_rows\n",
    "    client.close()\n",
    "\n",
    "    return result"
   ]
  },
  {
   "cell_type": "code",
   "execution_count": 2,
   "metadata": {},
   "outputs": [],
   "source": [
    "list_pinpp_education = get_education_by_pinpp(pinpp_list)"
   ]
  },
  {
   "cell_type": "markdown",
   "metadata": {},
   "source": [
    "Family checking - 11"
   ]
  },
  {
   "cell_type": "code",
   "execution_count": 4,
   "metadata": {},
   "outputs": [],
   "source": [
    "def find_criminal_relations(pinpp_list, all_defendant):\n",
    "    client = clickhouse_connect.get_client(host, port, user, password)\n",
    "\n",
    "    results = {}\n",
    "    for pinpp in pinpp_list:\n",
    "        # 1. Ota-onalar PINPPlarini olish\n",
    "        query_parents = f\"\"\"\n",
    "            SELECT father_pinpp, mother_pinpp\n",
    "            FROM gsp_persons\n",
    "            WHERE pinpp = '{pinpp}'\n",
    "        \"\"\"\n",
    "        parent_data = client.query(query_parents).result_rows\n",
    "        \n",
    "        if parent_data:\n",
    "            father_pinpp, mother_pinpp = parent_data[0]\n",
    "            father_criminal = 1 if father_pinpp in all_defendant else 0\n",
    "            mother_criminal = 2 if mother_pinpp in all_defendant else 0\n",
    "            parent_status = father_criminal + mother_criminal\n",
    "        else:\n",
    "            parent_status = 0\n",
    "\n",
    "        # 2. Aka-uka/opa-singillarni olish\n",
    "        query_siblings = f\"\"\"\n",
    "            SELECT pinpp\n",
    "            FROM gsp_persons\n",
    "            WHERE father_pinpp = (SELECT father_pinpp FROM gsp_persons WHERE pinpp = '{pinpp}')\n",
    "              AND mother_pinpp = (SELECT mother_pinpp FROM gsp_persons WHERE pinpp = '{pinpp}')\n",
    "              AND pinpp != '{pinpp}'\n",
    "        \"\"\"\n",
    "        siblings = [row[0] for row in client.query(query_siblings).result_rows]\n",
    "        sibling_criminal = 1 if any(sibling in all_defendant for sibling in siblings) else 0\n",
    "\n",
    "        # 3. Otaning aka-ukalari va opa-singillarini olish\n",
    "        query_fathers_siblings = f\"\"\"\n",
    "            SELECT pinpp\n",
    "            FROM gsp_persons\n",
    "            WHERE father_pinpp = (SELECT father_pinpp FROM gsp_persons WHERE pinpp = \n",
    "                                  (SELECT father_pinpp FROM gsp_persons WHERE pinpp = '{pinpp}'))\n",
    "        \"\"\"\n",
    "        fathers_siblings = [row[0] for row in client.query(query_fathers_siblings).result_rows]\n",
    "        fathers_sibling_criminal = 1 if any(relative in all_defendant for relative in fathers_siblings) else 0\n",
    "\n",
    "        results[pinpp] = {\n",
    "            \"parent_status\": parent_status,\n",
    "            \"sibling_criminal\": sibling_criminal,\n",
    "            \"fathers_sibling_criminal\": fathers_sibling_criminal\n",
    "        }\n",
    "\n",
    "    client.close()\n",
    "    return results\n"
   ]
  },
  {
   "cell_type": "markdown",
   "metadata": {},
   "source": [
    "Mashinalar soni - 12"
   ]
  },
  {
   "cell_type": "code",
   "execution_count": 5,
   "metadata": {},
   "outputs": [],
   "source": [
    "tech_p = get_function_simple('pinpp', \"tech_passport\")\n",
    "result_tech_p = []\n",
    "\n",
    "for index in pinpp_list:\n",
    "    result_tech_p.append(tech_p.count(index))\n"
   ]
  },
  {
   "cell_type": "markdown",
   "metadata": {},
   "source": [
    "jinoyat ko'p sodir bo'ladigan joyga bog'liqligi"
   ]
  },
  {
   "cell_type": "code",
   "execution_count": 7,
   "metadata": {},
   "outputs": [],
   "source": [
    "def label_pinpps_by_crime_region(pinpp_list):\n",
    "    client = clickhouse_connect.get_client(host, port, user, password)\n",
    "    \n",
    "    query_defendants = \"\"\"\n",
    "    SELECT region_id, COUNT(*) as crime_count\n",
    "    FROM defendants\n",
    "    GROUP BY region_id\n",
    "    ORDER BY crime_count DESC\n",
    "    \"\"\"\n",
    "    crime_data = client.query(query_defendants).result_rows\n",
    "\n",
    "    max_crime = max(crime_data, key=lambda x: x[1])[1]\n",
    "    min_crime = min(crime_data, key=lambda x: x[1])[1]\n",
    "\n",
    "    def normalize_crime_count(crime_count, max_crime, min_crime):\n",
    "        return (crime_count - min_crime) / (max_crime - min_crime) * 10\n",
    "\n",
    "    region_crime_rank = {region_id: normalize_crime_count(crime_count, max_crime, min_crime) \n",
    "                         for region_id, crime_count in crime_data}\n",
    "\n",
    "    query_gsp_persons = f\"\"\"\n",
    "    SELECT pinpp, region_id FROM gsp_persons\n",
    "    WHERE pinpp IN ({','.join(map(str, pinpp_list))})\n",
    "    \"\"\"\n",
    "    gsp_persons_data = client.query(query_gsp_persons).result_rows\n",
    "\n",
    "    labelled_pinpps = [region_crime_rank[region_id] for pinpp, region_id in gsp_persons_data]\n",
    "\n",
    "    return labelled_pinpps\n"
   ]
  },
  {
   "cell_type": "code",
   "execution_count": 8,
   "metadata": {},
   "outputs": [],
   "source": [
    "labelled_pinpps = label_pinpps_by_crime_region(pinpp_list)\n",
    "print(labelled_pinpps)"
   ]
  },
  {
   "cell_type": "markdown",
   "metadata": {},
   "source": [
    "bandlik_pinpp_check (searcher+worker)"
   ]
  },
  {
   "cell_type": "code",
   "execution_count": 9,
   "metadata": {},
   "outputs": [],
   "source": [
    "def check_pinpp_in_bandlik_tables(pinpp_list):\n",
    "    client = clickhouse_connect.get_client(host,\n",
    "                                           port,\n",
    "                                           user,\n",
    "                                           password)\n",
    "    \n",
    "    query_combined = f\"\"\"\n",
    "    SELECT pinpp FROM defendants\n",
    "    WHERE pinpp IN ({','.join(map(str, pinpp_list))})\n",
    "    UNION\n",
    "    SELECT pinpp FROM gsp_persons\n",
    "    WHERE pinpp IN ({','.join(map(str, pinpp_list))})\n",
    "    \"\"\"\n",
    "    combined_data = set(pinpp for pinpp, in client.query(query_combined).result_rows)\n",
    "\n",
    "    result = [1 if pinpp in combined_data else 0 for pinpp in pinpp_list]\n",
    "\n",
    "    return result"
   ]
  },
  {
   "cell_type": "code",
   "execution_count": 10,
   "metadata": {},
   "outputs": [],
   "source": [
    "# result = check_pinpp_in_combined_tables(pinpp_list)\n",
    "# print(result)"
   ]
  },
  {
   "cell_type": "markdown",
   "metadata": {},
   "source": [
    "Is_violence sorting - 21"
   ]
  },
  {
   "cell_type": "code",
   "execution_count": 13,
   "metadata": {},
   "outputs": [],
   "source": [
    "def label_pinpps_by_crime_and_violence(pinpp_list):\n",
    "    client = clickhouse_connect.get_client(host,\n",
    "                                           port,\n",
    "                                           user,\n",
    "                                           password)\n",
    "\n",
    "    query_defendants = \"\"\"\n",
    "    SELECT region_id, COUNT(*) as crime_count\n",
    "    FROM defendants\n",
    "    GROUP BY region_id\n",
    "    \"\"\"\n",
    "    query_violence = \"\"\"\n",
    "    SELECT destrict_id, COUNT(*) as violence_count\n",
    "    FROM iiv_violence\n",
    "    GROUP BY destrict_id\n",
    "    \"\"\"\n",
    "    \n",
    "    crime_data = client.query(query_defendants).result_rows\n",
    "    violence_data = client.query(query_violence).result_rows\n",
    "\n",
    "    combined_data = {}\n",
    "    \n",
    "    for region_id, crime_count in crime_data:\n",
    "        combined_data[region_id] = {'crime': crime_count, 'violence': 0}\n",
    "        \n",
    "    for destrict_id, violence_count in violence_data:\n",
    "        if destrict_id in combined_data:\n",
    "            combined_data[destrict_id]['violence'] = violence_count\n",
    "        else:\n",
    "            combined_data[destrict_id] = {'crime': 0, 'violence': violence_count}\n",
    "\n",
    "    max_crime = max(combined_data.values(), key=lambda x: x['crime'])['crime']\n",
    "    min_crime = min(combined_data.values(), key=lambda x: x['crime'])['crime']\n",
    "    \n",
    "    max_violence = max(combined_data.values(), key=lambda x: x['violence'])['violence']\n",
    "    min_violence = min(combined_data.values(), key=lambda x: x['violence'])['violence']\n",
    "\n",
    "    def normalize(count, max_count, min_count):\n",
    "        return (count - min_count) / (max_count - min_count) * 10\n",
    "\n",
    "    for region_id in combined_data:\n",
    "        crime = combined_data[region_id]['crime']\n",
    "        violence = combined_data[region_id]['violence']\n",
    "        combined_data[region_id]['crime_norm'] = normalize(crime, max_crime, min_crime)\n",
    "        combined_data[region_id]['violence_norm'] = normalize(violence, max_violence, min_violence)\n",
    "\n",
    "    query_gsp_persons = f\"\"\"\n",
    "    SELECT pinpp, region_id FROM gsp_persons\n",
    "    WHERE pinpp IN ({','.join(map(str, pinpp_list))})\n",
    "    \"\"\"\n",
    "    gsp_persons_data = client.query(query_gsp_persons).result_rows\n",
    "\n",
    "    labelled_pinpps = []\n",
    "    for pinpp, region_id in gsp_persons_data:\n",
    "        if region_id in combined_data:\n",
    "            crime_norm = combined_data[region_id]['crime_norm']\n",
    "            violence_norm = combined_data[region_id]['violence_norm']\n",
    "            label = (crime_norm + violence_norm) / 2  \n",
    "            labelled_pinpps.append(label)\n",
    "        else:\n",
    "            labelled_pinpps.append(0)  \n",
    "\n",
    "    return labelled_pinpps"
   ]
  },
  {
   "cell_type": "code",
   "execution_count": 12,
   "metadata": {},
   "outputs": [],
   "source": [
    "labelled_pinpps = label_pinpps_by_crime_and_violence(pinpp_list)\n",
    "print(labelled_pinpps)"
   ]
  },
  {
   "cell_type": "markdown",
   "metadata": {},
   "source": [
    "Farzandlari soni"
   ]
  },
  {
   "cell_type": "code",
   "execution_count": 15,
   "metadata": {},
   "outputs": [],
   "source": [
    "def count_children(pinpp_list):\n",
    "    client = clickhouse_connect.get_client(host,\n",
    "                                           port,\n",
    "                                           user,\n",
    "                                           password)\n",
    "\n",
    "    pinpp_list_str = ','.join([f\"'{pinpp}'\" for pinpp in pinpp_list])\n",
    "\n",
    "    query = f\"\"\"\n",
    "    SELECT\n",
    "        p.pinpp,\n",
    "        COUNT(b.father_pinpp) AS children_count\n",
    "    FROM\n",
    "        pinpp_list p\n",
    "    LEFT JOIN\n",
    "        zags_birth b ON b.father_pinpp = p.pinpp OR b.mother_pinpp = p.pinpp\n",
    "    WHERE\n",
    "        p.pinpp IN ({pinpp_list_str})\n",
    "    GROUP BY\n",
    "        p.pinpp\n",
    "    \"\"\"\n",
    "\n",
    "    result = client.query(query).result_rows\n",
    "\n",
    "    result_df = pd.DataFrame(result, columns=['pinpp', 'children_count'])\n",
    "\n",
    "    return result_df\n",
    "\n",
    "# result = count_children(pinpp_list)\n",
    "# print(result)"
   ]
  },
  {
   "cell_type": "code",
   "execution_count": 16,
   "metadata": {},
   "outputs": [
    {
     "data": {
      "text/plain": [
       "Decimal('0.3')"
      ]
     },
     "execution_count": 16,
     "metadata": {},
     "output_type": "execute_result"
    }
   ],
   "source": [
    "from decimal import Decimal\n",
    "Decimal('0.1') + Decimal('0.2')"
   ]
  },
  {
   "cell_type": "code",
   "execution_count": null,
   "metadata": {},
   "outputs": [],
   "source": []
  }
 ],
 "metadata": {
  "kernelspec": {
   "display_name": ".venv",
   "language": "python",
   "name": "python3"
  },
  "language_info": {
   "codemirror_mode": {
    "name": "ipython",
    "version": 3
   },
   "file_extension": ".py",
   "mimetype": "text/x-python",
   "name": "python",
   "nbconvert_exporter": "python",
   "pygments_lexer": "ipython3",
   "version": "3.12.4"
  }
 },
 "nbformat": 4,
 "nbformat_minor": 2
}
