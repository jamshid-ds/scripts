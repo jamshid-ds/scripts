{
 "cells": [
  {
   "cell_type": "markdown",
   "metadata": {},
   "source": [
    "1. -gsp_persons.birth_year\n",
    "2. -gsp_persons.birth_region_id\n",
    "3. -gsp_persons.living_region_id\n",
    "4. -doesLive_birth_region ( 0,1 )\n",
    "4. -gsp_persons.nationality_id\n",
    "5. -gsp_persons.sex_id\n",
    "6. -mib_orders 3 types -> ( jarayonda, tugallangan, yo'q )\n",
    "7. -work 3 types -> yaxshi, o'rta, yomon\n",
    "8. -zags 3 types -> ( turmush qurgan, turmush qurmagan, ajrashgan )\n",
    "9. -ma'lumoti ( oliy, o'rta, unknown )"
   ]
  },
  {
   "cell_type": "code",
   "execution_count": 1,
   "metadata": {},
   "outputs": [],
   "source": [
    "import pandas as pd\n",
    "import numpy as np\n",
    "import clickhouse_connect\n",
    "import bisect\n",
    "import random\n",
    "from typing import List, Tuple, Optional"
   ]
  },
  {
   "cell_type": "code",
   "execution_count": 38,
   "metadata": {},
   "outputs": [],
   "source": [
    "def get_pinpp_of_defendant_with_limit(limit=800):\n",
    "    host = \"play.clickhouse.com\" \n",
    "    port = 443\n",
    "    user = \"explorer\" \n",
    "    password = \"\"\n",
    "    query = f\"\"\"\n",
    "SELECT pinpp  FROM defendants\n",
    "WHERE toDate(qamalgan_sana) >= '2022-03-31'\n",
    "ORDER BY qamalgan_sana DESC\n",
    "limit {limit}\n",
    "    \"\"\"\n",
    "    client = clickhouse_connect.get_client(\n",
    "        host=host,\n",
    "        port=port,\n",
    "        user=user,\n",
    "        password=password,\n",
    "        secure=True\n",
    "    )\n",
    "    query = query\n",
    "    result = client.query(query)\n",
    "    client.close()\n",
    "    \n",
    "\n",
    "    return result.result_rows\n",
    "\n",
    "# result=get_pinpp_of_defendant_with_limit()\n",
    "\n",
    "# df_def=pd.DataFrame(result, columns=['pinfl'])\n",
    "# df_def['jinoyatchimi']=1\n",
    "\n",
    "# pinfl_list_to_check = list(df_def['pinfl'])"
   ]
  },
  {
   "cell_type": "code",
   "execution_count": 39,
   "metadata": {},
   "outputs": [],
   "source": [
    "def get_all_pinpp_of_defendant():\n",
    "    host = \"play.clickhouse.com\" \n",
    "    port = 443\n",
    "    user = \"explorer\"\n",
    "    password = \"\"\n",
    "\n",
    "    query = \"\"\"SELECT pinpp FROM defendants\"\"\"\n",
    "    \n",
    "    client = clickhouse_connect.get_client(host=host, port=port, user=user, password=password)\n",
    "    result = client.query(query)\n",
    "    client.close()\n",
    "\n",
    "    return result.result_rows"
   ]
  },
  {
   "cell_type": "markdown",
   "metadata": {},
   "source": [
    "all_defendants_pinpp -> list \n",
    "\n",
    "limited_defendants_pinpp -> all_defendants_pinpp[:1000]\n",
    "\n"
   ]
  },
  {
   "cell_type": "code",
   "execution_count": 40,
   "metadata": {},
   "outputs": [],
   "source": [
    "def get_pinpp_of_normal_humans(not_get_pinfl_list, limit=100000):\n",
    "    host = \"play.clickhouse.com\" \n",
    "    port = 443\n",
    "    user = \"explorer\" \n",
    "    password = \"\"\n",
    "    excluded_pinpps = \", \".join([f\"'{pinpp}'\" for pinpp in not_get_pinfl_list])\n",
    "    \n",
    "    query = f\"\"\"\n",
    "    SELECT OriginAirportID\n",
    "    FROM ontime\n",
    "    WHERE OriginAirportID NOT IN ({excluded_pinpps})\n",
    "    LIMIT {limit}\n",
    "    \"\"\"\n",
    "\n",
    "    client = clickhouse_connect.get_client(\n",
    "        host=host,\n",
    "        port=port,\n",
    "        user=user,\n",
    "        password=password,\n",
    "        secure=True \n",
    "    )\n",
    "    \n",
    "    result = client.query(query)\n",
    "    client.close() \n",
    "    return result.result_rows\n",
    "\n",
    "# result=get_pinpp_of_normal_humans(pinfl_list_to_check, limit=100000)\n",
    "\n",
    "# df_normal=pd.DataFrame(result, columns=['pinfl'])\n",
    "# df_normal['jinoyatchimi']=0\n",
    "\n"
   ]
  },
  {
   "cell_type": "code",
   "execution_count": null,
   "metadata": {},
   "outputs": [
    {
     "name": "stdout",
     "output_type": "stream",
     "text": [
      "79999\n"
     ]
    }
   ],
   "source": [
    "#### Bu ikki funksiya birinchi listdagi va ikkinchi listda yo'q ma'lumotlarni qaytaradi\n",
    "#for pinpp -> list1 = limited normal people pinpp, list2 = all defendants pinpp\n",
    "\n",
    "def check_isUnique(list1, list2):\n",
    "    return [item for item in list1 if item not in list2]\n",
    "\n",
    "\n",
    "def check_isUnique_with_bisect(list1, list2):\n",
    "    list2.sort()\n",
    "    result = []\n",
    "    for item in list1:\n",
    "        pos = bisect.bisect_left(list2, item)\n",
    "        if pos == len(list2) or list2[pos] != item:\n",
    "            result.append(item)\n",
    "\n",
    "    return result\n",
    "\n",
    "list1 = list(range(1, 100_000))\n",
    "\n",
    "list2 = list(range(80_000, 120_000))\n",
    "\n",
    "result = check_isUnique(list1, list2)\n",
    "print(len(result))"
   ]
  },
  {
   "cell_type": "code",
   "execution_count": 46,
   "metadata": {},
   "outputs": [
    {
     "name": "stdout",
     "output_type": "stream",
     "text": [
      "1. 24.12644672393799\n",
      "2. 0.02007746696472168.\n"
     ]
    }
   ],
   "source": [
    "import time\n",
    "\n",
    "start_time = time.time()\n",
    "check_isUnique(list1, list2)\n",
    "end_time = time.time()\n",
    "print(f\"1. {end_time - start_time}\")\n",
    "\n",
    "start_time = time.time()\n",
    "check_isUnique_with_bisect(list1, list2)\n",
    "end_time = time.time()\n",
    "print(f\"2. {end_time - start_time}.\")"
   ]
  },
  {
   "cell_type": "code",
   "execution_count": 42,
   "metadata": {},
   "outputs": [],
   "source": [
    "def get_data_by_pinpp(\n",
    "    pinpp_list_overall,\n",
    "    chunk_size,\n",
    "    limit):\n",
    "        config = {\n",
    "            \"host\": \"play.clickhouse.com\",\n",
    "            \"port\": 443,\n",
    "            \"user\": \"explorer\",\n",
    "            \"password\": \"\",\n",
    "            \"secure\": True\n",
    "        }\n",
    "        \n",
    "        with clickhouse_connect.get_client(**config) as client:\n",
    "            result = []\n",
    "            \n",
    "            chunks = [\n",
    "                pinpp_list_overall[i:i + chunk_size] \n",
    "                for i in range(0, len(pinpp_list_overall), chunk_size)\n",
    "            ]\n",
    "            \n",
    "            for chunk in chunks:\n",
    "                query = \"\"\"\n",
    "                SELECT Year, Reporting_Airline, Month\n",
    "                FROM ontime\n",
    "                WHERE OriginAirportID IN ({})\n",
    "                \"\"\"\n",
    "                \n",
    "                if limit:\n",
    "                    query += f\" LIMIT {limit}\"\n",
    "                \n",
    "                placeholders = \", \".join([f\"'{pinpp}'\" for pinpp in chunk])\n",
    "                formatted_query = query.format(placeholders)\n",
    "                \n",
    "                partial_result = client.query(formatted_query)\n",
    "                result.extend(partial_result.result_rows)\n",
    "            \n",
    "            return result\n",
    "        \n",
    "# pinpp_list = pinfl_list_to_check\n",
    "# results = get_data_by_pinpp(\n",
    "#     pinpp_list_overall=pinpp_list,\n",
    "#     chunk_size=50,\n",
    "#     limit=500\n",
    "# )\n",
    "\n",
    "# df_overall_data = pd.DataFrame(results, columns=['Year', 'Reporting_Airline', 'Month'])\n",
    "# df_overall_data.sort_values(by='Year', ascending=True)"
   ]
  },
  {
   "cell_type": "code",
   "execution_count": null,
   "metadata": {},
   "outputs": [],
   "source": []
  }
 ],
 "metadata": {
  "kernelspec": {
   "display_name": ".venv",
   "language": "python",
   "name": "python3"
  },
  "language_info": {
   "codemirror_mode": {
    "name": "ipython",
    "version": 3
   },
   "file_extension": ".py",
   "mimetype": "text/x-python",
   "name": "python",
   "nbconvert_exporter": "python",
   "pygments_lexer": "ipython3",
   "version": "3.13.1"
  }
 },
 "nbformat": 4,
 "nbformat_minor": 2
}
