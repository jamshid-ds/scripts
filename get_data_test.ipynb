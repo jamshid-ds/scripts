{
 "cells": [
  {
   "cell_type": "code",
   "execution_count": 1,
   "metadata": {},
   "outputs": [],
   "source": [
    "import pandas as pd\n",
    "import numpy as np\n",
    "import clickhouse_connect\n",
    "from elasticsearch import Elasticsearch"
   ]
  },
  {
   "cell_type": "markdown",
   "metadata": {},
   "source": [
    "# GET PINPP "
   ]
  },
  {
   "cell_type": "markdown",
   "metadata": {},
   "source": [
    "### DEFENDANT"
   ]
  },
  {
   "cell_type": "code",
   "execution_count": 29,
   "metadata": {},
   "outputs": [],
   "source": [
    "def get_pinpp_of_defendant_with_limit(limit=800):\n",
    "    host = \"play.clickhouse.com\" \n",
    "    port = 443\n",
    "    user = \"explorer\" \n",
    "    password = \"\"\n",
    "    query = f\"\"\"\n",
    "SELECT OriginAirportID, FlightDate  FROM ontime\n",
    "WHERE toDate(FlightDate) >= '2022-03-31'\n",
    "ORDER BY FlightDate DESC\n",
    "limit {limit}\n",
    "    \"\"\"\n",
    "    client = clickhouse_connect.get_client(\n",
    "        host=host,\n",
    "        port=port,  \n",
    "        user=user,\n",
    "        password=password,\n",
    "        secure=True  \n",
    "    )\n",
    "    query = query\n",
    "    result = client.query(query)\n",
    "    client.close()\n",
    "    \n",
    "\n",
    "    return result.result_rows\n",
    "\n",
    "result=get_pinpp_of_defendant_with_limit()\n",
    "\n",
    "df_def=pd.DataFrame(result, columns=['pinfl', 'FlightDate'])\n",
    "df_def['jinoyatchimi']=1\n",
    "\n",
    "pinfl_list_to_check = list(df_def['pinfl'])"
   ]
  },
  {
   "cell_type": "code",
   "execution_count": 33,
   "metadata": {},
   "outputs": [],
   "source": [
    "def get_all_pinpp_of_defendant():\n",
    "    host = \"play.clickhouse.com\" \n",
    "    port = 443\n",
    "    user = \"explorer\"\n",
    "    password = \"\"\n",
    "\n",
    "    query = f\"\"\"\n",
    "    SELECT login FROM actors  \n",
    " \"\"\"\n",
    "    \n",
    "    client = clickhouse_connect.get_client(host=host, port=port, user=user, password=password)\n",
    "    result = client.query(query)\n",
    "    client.close()\n",
    "\n",
    "    return result.result_rows"
   ]
  },
  {
   "cell_type": "code",
   "execution_count": null,
   "metadata": {},
   "outputs": [],
   "source": [
    "df_allpinpp_of_defendant = "
   ]
  },
  {
   "cell_type": "code",
   "execution_count": 31,
   "metadata": {},
   "outputs": [
    {
     "data": {
      "text/plain": [
       "pinfl\n",
       "11298    111\n",
       "11057    108\n",
       "14107     67\n",
       "13303     53\n",
       "14100     42\n",
       "        ... \n",
       "14307      1\n",
       "14321      1\n",
       "10849      1\n",
       "10792      1\n",
       "10994      1\n",
       "Name: count, Length: 85, dtype: int64"
      ]
     },
     "execution_count": 31,
     "metadata": {},
     "output_type": "execute_result"
    }
   ],
   "source": [
    "df_def['pinfl'].value_counts()"
   ]
  },
  {
   "cell_type": "markdown",
   "metadata": {},
   "source": [
    "### NORMAL HUMANS"
   ]
  },
  {
   "cell_type": "code",
   "execution_count": 3,
   "metadata": {},
   "outputs": [],
   "source": [
    "def get_pinpp_of_normal_humans(not_get_pinfl_list, limit=1000):\n",
    "    host = \"play.clickhouse.com\" \n",
    "    port = 443\n",
    "    user = \"explorer\" \n",
    "    password = \"\"\n",
    "    excluded_pinpps = \", \".join([f\"'{pinpp}'\" for pinpp in not_get_pinfl_list])\n",
    "    \n",
    "    query = f\"\"\"\n",
    "    SELECT OriginAirportID\n",
    "    FROM ontime\n",
    "    WHERE OriginAirportID NOT IN ({excluded_pinpps})\n",
    "    LIMIT {limit}\n",
    "    \"\"\"\n",
    "\n",
    "    client = clickhouse_connect.get_client(\n",
    "        host=host,\n",
    "        port=port,\n",
    "        user=user,\n",
    "        password=password,\n",
    "        secure=True \n",
    "    )\n",
    "    \n",
    "    result = client.query(query)\n",
    "    client.close() \n",
    "    return result.result_rows\n",
    "\n",
    "result=get_pinpp_of_normal_humans(pinfl_list_to_check, limit=1000)\n",
    "\n",
    "df_normal=pd.DataFrame(result, columns=['pinfl'])\n",
    "df_normal['jinoyatchimi']=0"
   ]
  },
  {
   "cell_type": "code",
   "execution_count": 4,
   "metadata": {},
   "outputs": [],
   "source": [
    "df = pd.concat([df_def, df_normal], ignore_index=True).sample(frac = 1)\n",
    "pinpp_list_overall = list(df['pinfl'])"
   ]
  },
  {
   "cell_type": "code",
   "execution_count": 16,
   "metadata": {},
   "outputs": [],
   "source": [
    "import clickhouse_connect\n",
    "from typing import List, Tuple, Optional\n",
    "\n",
    "def get_data_by_pinpp(\n",
    "    pinpp_list_overall: List[str],\n",
    "    chunk_size: int = 100,\n",
    "    limit: Optional[int] = 1000\n",
    ") -> List[Tuple]:\n",
    "        config = {\n",
    "            \"host\": \"play.clickhouse.com\",\n",
    "            \"port\": 443,\n",
    "            \"user\": \"explorer\",\n",
    "            \"password\": \"\",\n",
    "            \"secure\": True\n",
    "        }\n",
    "        \n",
    "        with clickhouse_connect.get_client(**config) as client:\n",
    "            result = []\n",
    "            \n",
    "            chunks = [\n",
    "                pinpp_list_overall[i:i + chunk_size] \n",
    "                for i in range(0, len(pinpp_list_overall), chunk_size)\n",
    "            ]\n",
    "            \n",
    "            for chunk in chunks:\n",
    "                query = \"\"\"\n",
    "                SELECT Year, Reporting_Airline, Month\n",
    "                FROM ontime\n",
    "                WHERE OriginAirportID IN ({})\n",
    "                \"\"\"\n",
    "                \n",
    "                if limit:\n",
    "                    query += f\" LIMIT {limit}\"\n",
    "                \n",
    "                placeholders = \", \".join([f\"'{pinpp}'\" for pinpp in chunk])\n",
    "                formatted_query = query.format(placeholders)\n",
    "                \n",
    "                partial_result = client.query(formatted_query)\n",
    "                result.extend(partial_result.result_rows)\n",
    "            \n",
    "            return result"
   ]
  },
  {
   "cell_type": "code",
   "execution_count": 24,
   "metadata": {},
   "outputs": [],
   "source": [
    "pinpp_list = pinfl_list_to_check\n",
    "results = get_data_by_pinpp(\n",
    "    pinpp_list_overall=pinpp_list,\n",
    "    chunk_size=50,\n",
    "    limit=500\n",
    ")\n",
    "\n",
    "df_overall_data = pd.DataFrame(results, columns=['Year', 'Reporting_Airline', 'Month'])"
   ]
  },
  {
   "cell_type": "code",
   "execution_count": 28,
   "metadata": {},
   "outputs": [
    {
     "data": {
      "text/html": [
       "<div>\n",
       "<style scoped>\n",
       "    .dataframe tbody tr th:only-of-type {\n",
       "        vertical-align: middle;\n",
       "    }\n",
       "\n",
       "    .dataframe tbody tr th {\n",
       "        vertical-align: top;\n",
       "    }\n",
       "\n",
       "    .dataframe thead th {\n",
       "        text-align: right;\n",
       "    }\n",
       "</style>\n",
       "<table border=\"1\" class=\"dataframe\">\n",
       "  <thead>\n",
       "    <tr style=\"text-align: right;\">\n",
       "      <th></th>\n",
       "      <th>Year</th>\n",
       "      <th>Reporting_Airline</th>\n",
       "      <th>Month</th>\n",
       "    </tr>\n",
       "  </thead>\n",
       "  <tbody>\n",
       "    <tr>\n",
       "      <th>0</th>\n",
       "      <td>2000</td>\n",
       "      <td>US</td>\n",
       "      <td>3</td>\n",
       "    </tr>\n",
       "    <tr>\n",
       "      <th>341</th>\n",
       "      <td>2000</td>\n",
       "      <td>US</td>\n",
       "      <td>3</td>\n",
       "    </tr>\n",
       "    <tr>\n",
       "      <th>340</th>\n",
       "      <td>2000</td>\n",
       "      <td>US</td>\n",
       "      <td>3</td>\n",
       "    </tr>\n",
       "    <tr>\n",
       "      <th>339</th>\n",
       "      <td>2000</td>\n",
       "      <td>US</td>\n",
       "      <td>3</td>\n",
       "    </tr>\n",
       "    <tr>\n",
       "      <th>338</th>\n",
       "      <td>2000</td>\n",
       "      <td>US</td>\n",
       "      <td>3</td>\n",
       "    </tr>\n",
       "    <tr>\n",
       "      <th>...</th>\n",
       "      <td>...</td>\n",
       "      <td>...</td>\n",
       "      <td>...</td>\n",
       "    </tr>\n",
       "    <tr>\n",
       "      <th>159</th>\n",
       "      <td>2000</td>\n",
       "      <td>US</td>\n",
       "      <td>3</td>\n",
       "    </tr>\n",
       "    <tr>\n",
       "      <th>158</th>\n",
       "      <td>2000</td>\n",
       "      <td>US</td>\n",
       "      <td>3</td>\n",
       "    </tr>\n",
       "    <tr>\n",
       "      <th>157</th>\n",
       "      <td>2000</td>\n",
       "      <td>US</td>\n",
       "      <td>3</td>\n",
       "    </tr>\n",
       "    <tr>\n",
       "      <th>170</th>\n",
       "      <td>2000</td>\n",
       "      <td>US</td>\n",
       "      <td>3</td>\n",
       "    </tr>\n",
       "    <tr>\n",
       "      <th>499</th>\n",
       "      <td>2000</td>\n",
       "      <td>US</td>\n",
       "      <td>3</td>\n",
       "    </tr>\n",
       "  </tbody>\n",
       "</table>\n",
       "<p>500 rows × 3 columns</p>\n",
       "</div>"
      ],
      "text/plain": [
       "     Year Reporting_Airline  Month\n",
       "0    2000                US      3\n",
       "341  2000                US      3\n",
       "340  2000                US      3\n",
       "339  2000                US      3\n",
       "338  2000                US      3\n",
       "..    ...               ...    ...\n",
       "159  2000                US      3\n",
       "158  2000                US      3\n",
       "157  2000                US      3\n",
       "170  2000                US      3\n",
       "499  2000                US      3\n",
       "\n",
       "[500 rows x 3 columns]"
      ]
     },
     "execution_count": 28,
     "metadata": {},
     "output_type": "execute_result"
    }
   ],
   "source": [
    "df_overall_data.sort_values(by='Year', ascending=True)"
   ]
  },
  {
   "cell_type": "code",
   "execution_count": 18,
   "metadata": {},
   "outputs": [
    {
     "name": "stdout",
     "output_type": "stream",
     "text": [
      "<class 'pandas.core.frame.DataFrame'>\n",
      "RangeIndex: 11000 entries, 0 to 10999\n",
      "Data columns (total 3 columns):\n",
      " #   Column  Non-Null Count  Dtype \n",
      "---  ------  --------------  ----- \n",
      " 0   0       11000 non-null  int64 \n",
      " 1   1       11000 non-null  object\n",
      " 2   2       11000 non-null  int64 \n",
      "dtypes: int64(2), object(1)\n",
      "memory usage: 257.9+ KB\n"
     ]
    }
   ],
   "source": [
    "df.info()"
   ]
  },
  {
   "cell_type": "code",
   "execution_count": 15,
   "metadata": {},
   "outputs": [
    {
     "data": {
      "text/html": [
       "<div>\n",
       "<style scoped>\n",
       "    .dataframe tbody tr th:only-of-type {\n",
       "        vertical-align: middle;\n",
       "    }\n",
       "\n",
       "    .dataframe tbody tr th {\n",
       "        vertical-align: top;\n",
       "    }\n",
       "\n",
       "    .dataframe thead th {\n",
       "        text-align: right;\n",
       "    }\n",
       "</style>\n",
       "<table border=\"1\" class=\"dataframe\">\n",
       "  <thead>\n",
       "    <tr style=\"text-align: right;\">\n",
       "      <th></th>\n",
       "      <th>0</th>\n",
       "      <th>1</th>\n",
       "      <th>2</th>\n",
       "    </tr>\n",
       "  </thead>\n",
       "  <tbody>\n",
       "    <tr>\n",
       "      <th>0</th>\n",
       "      <td>1996</td>\n",
       "      <td>AA</td>\n",
       "      <td>4</td>\n",
       "    </tr>\n",
       "    <tr>\n",
       "      <th>1</th>\n",
       "      <td>1996</td>\n",
       "      <td>AA</td>\n",
       "      <td>4</td>\n",
       "    </tr>\n",
       "    <tr>\n",
       "      <th>2</th>\n",
       "      <td>1996</td>\n",
       "      <td>AA</td>\n",
       "      <td>4</td>\n",
       "    </tr>\n",
       "    <tr>\n",
       "      <th>3</th>\n",
       "      <td>1996</td>\n",
       "      <td>AA</td>\n",
       "      <td>4</td>\n",
       "    </tr>\n",
       "    <tr>\n",
       "      <th>4</th>\n",
       "      <td>1996</td>\n",
       "      <td>AA</td>\n",
       "      <td>4</td>\n",
       "    </tr>\n",
       "  </tbody>\n",
       "</table>\n",
       "</div>"
      ],
      "text/plain": [
       "      0   1  2\n",
       "0  1996  AA  4\n",
       "1  1996  AA  4\n",
       "2  1996  AA  4\n",
       "3  1996  AA  4\n",
       "4  1996  AA  4"
      ]
     },
     "execution_count": 15,
     "metadata": {},
     "output_type": "execute_result"
    }
   ],
   "source": [
    "df.head()"
   ]
  },
  {
   "cell_type": "markdown",
   "metadata": {},
   "source": [
    "### GET normal humans pinpp is not in pinpp of defendants"
   ]
  },
  {
   "cell_type": "code",
   "execution_count": null,
   "metadata": {},
   "outputs": [],
   "source": [
    "def get_normal_human_pinpp(limit=50000):\n",
    "    host = \"play.clickhouse.com\" \n",
    "    port = 443\n",
    "    user = \"explorer\" \n",
    "    password = \"\"\n",
    "\n",
    "    client = clickhouse_connect.get_client(host, port, user, password)\n",
    "    "
   ]
  },
  {
   "cell_type": "code",
   "execution_count": null,
   "metadata": {},
   "outputs": [],
   "source": []
  }
 ],
 "metadata": {
  "kernelspec": {
   "display_name": ".venv",
   "language": "python",
   "name": "python3"
  },
  "language_info": {
   "codemirror_mode": {
    "name": "ipython",
    "version": 3
   },
   "file_extension": ".py",
   "mimetype": "text/x-python",
   "name": "python",
   "nbconvert_exporter": "python",
   "pygments_lexer": "ipython3",
   "version": "3.12.4"
  }
 },
 "nbformat": 4,
 "nbformat_minor": 2
}
