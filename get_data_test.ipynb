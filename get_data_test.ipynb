{
 "cells": [
  {
   "cell_type": "code",
   "execution_count": 73,
   "metadata": {},
   "outputs": [],
   "source": [
    "import pandas as pd\n",
    "import numpy as np\n",
    "import clickhouse_connect\n",
    "from elasticsearch import Elasticsearch"
   ]
  },
  {
   "cell_type": "code",
   "execution_count": 54,
   "metadata": {},
   "outputs": [],
   "source": [
    "def get_pinpp_of_defendant(limit=300):\n",
    "    host = \"play.clickhouse.com\" \n",
    "    port = 443\n",
    "    user = \"explorer\" \n",
    "    password = \"\"\n",
    "    query = f\"\"\"\n",
    "SELECT OriginAirportID FROM ontime\n",
    "WHERE toDate(FlightDate) >= '2022-03-31'\n",
    "ORDER BY FlightDate DESC\n",
    "limit {limit}\n",
    "    \"\"\"\n",
    "    client = clickhouse_connect.get_client(\n",
    "        host=host,\n",
    "        port=port,  \n",
    "        user=user,\n",
    "        password=password,\n",
    "        secure=True  \n",
    "    )\n",
    "    query = query\n",
    "    result = client.query(query)\n",
    "    client.close()\n",
    "    \n",
    "\n",
    "    return result.result_rows\n",
    "\n",
    "result=get_pinpp_of_defendant()\n",
    "\n",
    "df_def=pd.DataFrame(result, columns=['pinfl'])\n",
    "df_def['jinoyatchimi']=1\n",
    "\n",
    "pinfl_list_to_check = list(df_def['pinfl'])"
   ]
  },
  {
   "cell_type": "code",
   "execution_count": 55,
   "metadata": {},
   "outputs": [],
   "source": [
    "def get_pinpp_of_normal_humans(not_get_pinfl_list, limit=100000):\n",
    "    host = \"play.clickhouse.com\" \n",
    "    port = 443\n",
    "    user = \"explorer\" \n",
    "    password = \"\"\n",
    "    excluded_pinpps = \", \".join([f\"'{pinpp}'\" for pinpp in not_get_pinfl_list])\n",
    "    \n",
    "    query = f\"\"\"\n",
    "    SELECT OriginAirportID\n",
    "    FROM ontime\n",
    "    WHERE OriginAirportID NOT IN ({excluded_pinpps})\n",
    "    LIMIT {limit}\n",
    "    \"\"\"\n",
    "\n",
    "    client = clickhouse_connect.get_client(\n",
    "        host=host,\n",
    "        port=port,\n",
    "        user=user,\n",
    "        password=password,\n",
    "        secure=True \n",
    "    )\n",
    "    \n",
    "    result = client.query(query)\n",
    "    client.close() \n",
    "    return result.result_rows\n",
    "\n",
    "result=get_pinpp_of_normal_humans(pinfl_list_to_check, limit=100000)\n",
    "\n",
    "df_normal=pd.DataFrame(result, columns=['pinfl'])\n",
    "df_normal['jinoyatchimi']=0"
   ]
  },
  {
   "cell_type": "code",
   "execution_count": 56,
   "metadata": {},
   "outputs": [],
   "source": [
    "df = pd.concat([df_def, df_normal], ignore_index=True).sample(frac = 1)\n",
    "pinpp_list_overall = list(df['pinfl'])"
   ]
  },
  {
   "cell_type": "code",
   "execution_count": 76,
   "metadata": {},
   "outputs": [],
   "source": [
    "import clickhouse_connect\n",
    "\n",
    "def get_data_by_pinpp(pinpp_list_overall=pinpp_list_overall, chunk_size=100, limit=10000):\n",
    "    host = \"play.clickhouse.com\"\n",
    "    port = 443\n",
    "    user = \"explorer\"\n",
    "    password = \"\"\n",
    "\n",
    "    client = clickhouse_connect.get_client(\n",
    "        host=host,\n",
    "        port=port,\n",
    "        user=user,\n",
    "        password=password,\n",
    "        secure=True\n",
    "    )\n",
    "\n",
    "    chunks = [pinpp_list_overall[i:i + chunk_size] for i in range(0, len(pinpp_list_overall), chunk_size)]\n",
    "    \n",
    "    result = []\n",
    "\n",
    "    for chunk in chunks:\n",
    "        formatted_pinpp_list = \", \".join([f\"'{pinpp}'\" for pinpp in chunk])\n",
    "        query = f\"\"\"\n",
    "        SELECT *\n",
    "        FROM ontime\n",
    "        WHERE OriginAirportID IN ({formatted_pinpp_list})\n",
    "        LIMIT {limit}  -- Natijani limitlash\n",
    "        \"\"\"\n",
    "        partial_result = client.query(query)\n",
    "        result.extend(partial_result.result_rows)\n",
    "\n",
    "    client.close()\n",
    "\n",
    "    return result\n"
   ]
  },
  {
   "cell_type": "code",
   "execution_count": null,
   "metadata": {},
   "outputs": [],
   "source": []
  }
 ],
 "metadata": {
  "kernelspec": {
   "display_name": ".venv",
   "language": "python",
   "name": "python3"
  },
  "language_info": {
   "codemirror_mode": {
    "name": "ipython",
    "version": 3
   },
   "file_extension": ".py",
   "mimetype": "text/x-python",
   "name": "python",
   "nbconvert_exporter": "python",
   "pygments_lexer": "ipython3",
   "version": "3.12.4"
  }
 },
 "nbformat": 4,
 "nbformat_minor": 2
}
