{
 "cells": [
  {
   "cell_type": "markdown",
   "metadata": {},
   "source": [
    "1. +gsp_persons.birth_year\n",
    "2. +gsp_persons.birth_region_id\n",
    "3. +gsp_persons.living_region_id\n",
    "4. -doesLive_birth_region ( 0,1 )\n",
    "5. +gsp_persons.nationality_id\n",
    "6. +gsp_persons.sex_id\n",
    "7. -mib_orders 3 types -> ( jarayonda, tugallangan, yo'q )\n",
    "8. -work (ishli yoki yo'q)\n",
    "9. -zags 3 types -> ( turmush qurgan, turmush qurmagan, ajrashgan )\n",
    "10. -ma'lumoti ( oliy, o'rta, unknown )\n",
    "11. -isFatherDefendant (otasining pinppsi iiv_idcard.father_pinpp dan olinadi va defendantlar ichida bor yoki yo'qligi tekshiriladi)\n",
    "12. -mashinalari soni (YHXX.tech_passport)\n",
    "13. -jinoyat ko'p sodir bo'ladigan joyga bog'liqligi\n",
    "14. -payment_history from payment_history\n",
    "15. +cadastre.neighborhood_id \n",
    "16. -isviolent(oldin zo'ravonlik qilgan yoki yo'qligi, agar pinppi iv_violence bo'lsa-1)\n",
    "17. -"
   ]
  },
  {
   "cell_type": "code",
   "execution_count": 24,
   "metadata": {},
   "outputs": [],
   "source": [
    "import pandas as pd\n",
    "import numpy as np\n",
    "import clickhouse_connect\n",
    "import bisect\n",
    "import random\n",
    "from typing import List, Tuple, Optional"
   ]
  },
  {
   "cell_type": "code",
   "execution_count": 25,
   "metadata": {},
   "outputs": [
    {
     "name": "stdout",
     "output_type": "stream",
     "text": [
      "44\n",
      "85\n"
     ]
    }
   ],
   "source": [
    "df_schema = pd.read_excel(\"metadata_schema_adm_big_datav1.xlsx\")\n",
    "df_def_schema = pd.read_excel(\"DEFENDANTS_SCHEMA.xlsx\")\n",
    "print(len(df_schema['table_name'].unique()))\n",
    "print(len(df_def_schema['TABLE_NAME'].unique()))"
   ]
  },
  {
   "cell_type": "markdown",
   "metadata": {},
   "source": [
    "## FUNCTIONS"
   ]
  },
  {
   "cell_type": "code",
   "execution_count": 41,
   "metadata": {},
   "outputs": [],
   "source": [
    "def get_pinpp_normal_with_limit(limit=100_000):\n",
    "    host = \"play.clickhouse.com\" \n",
    "    port = 443\n",
    "    user = \"explorer\" \n",
    "    password = \"\"\n",
    "    query = f\"\"\"\n",
    "SELECT pinpp  FROM gsp_persons limit {limit}\n",
    "    \"\"\"\n",
    "    client = clickhouse_connect.get_client(\n",
    "        host=host,\n",
    "        port=port,\n",
    "        user=user,\n",
    "        password=password,\n",
    "        secure=True\n",
    "    )\n",
    "    query = query\n",
    "    result = client.query(query)\n",
    "    client.close()\n",
    "    \n",
    "\n",
    "    return result.result_rows"
   ]
  },
  {
   "cell_type": "code",
   "execution_count": 39,
   "metadata": {},
   "outputs": [],
   "source": [
    "def get_all_pinpp_of_defendant():\n",
    "    host = \"play.clickhouse.com\" \n",
    "    port = 443\n",
    "    user = \"explorer\"\n",
    "    password = \"\"\n",
    "\n",
    "    query = \"\"\"SELECT defendant_pinfl  FROM defendants\n",
    "WHERE toDate(defendant_provision_date) >= '2022-03-31'\n",
    "ORDER BY defendant_provision_date DESC\n",
    "\"\"\"\n",
    "    \n",
    "    client = clickhouse_connect.get_client(host=host, port=port, user=user, password=password)\n",
    "    result = client.query(query)\n",
    "    client.close()\n",
    "\n",
    "    return result.result_rows"
   ]
  },
  {
   "cell_type": "markdown",
   "metadata": {},
   "source": [
    "all_defendants_pinpp -> list \n",
    "\n",
    "limited_defendants_pinpp -> all_defendants_pinpp[:1000]"
   ]
  },
  {
   "cell_type": "code",
   "execution_count": 28,
   "metadata": {},
   "outputs": [],
   "source": [
    "def get_pinpp_of_normal_humans(not_get_pinfl_list, limit=100000):\n",
    "    host = \"play.clickhouse.com\" \n",
    "    port = 443\n",
    "    user = \"explorer\" \n",
    "    password = \"\"\n",
    "    excluded_pinpps = \", \".join([f\"'{pinpp}'\" for pinpp in not_get_pinfl_list])\n",
    "    \n",
    "    query = f\"\"\"\n",
    "    SELECT OriginAirportID\n",
    "    FROM ontime\n",
    "    WHERE OriginAirportID NOT IN ({excluded_pinpps})\n",
    "    LIMIT {limit}\n",
    "    \"\"\"\n",
    "\n",
    "    client = clickhouse_connect.get_client(\n",
    "        host=host,\n",
    "        port=port,\n",
    "        user=user,\n",
    "        password=password,\n",
    "        secure=True \n",
    "    )\n",
    "    \n",
    "    result = client.query(query)\n",
    "    client.close() \n",
    "    return result.result_rows\n",
    "\n",
    "# result=get_pinpp_of_normal_humans(pinfl_list_to_check, limit=100000)\n",
    "\n",
    "# df_normal=pd.DataFrame(result, columns=['pinfl'])\n",
    "# df_normal['jinoyatchimi']=0\n",
    "\n"
   ]
  },
  {
   "cell_type": "code",
   "execution_count": null,
   "metadata": {},
   "outputs": [],
   "source": [
    "#### Bu ikki funksiya birinchi listdagi va ikkinchi listda yo'q ma'lumotlarni qaytaradi\n",
    "#for pinpp -> list1 = limited normal people pinpp, list2 = all defendants pinpp\n",
    "\n",
    "# def check_isUnique(list1, list2):\n",
    "#     return [item for item in list1 if item not in list2]\n",
    "\n",
    "\n",
    "def check_isUnique_with_bisect(list1, list2):\n",
    "    list2.sort()\n",
    "    result = []\n",
    "    for item in list1:\n",
    "        pos = bisect.bisect_left(list2, item)\n",
    "        if pos == len(list2) or list2[pos] != item:\n",
    "            result.append(item)\n",
    "\n",
    "    return result\n",
    "\n",
    "list1 = list(range(1, 100_000))\n",
    "list2 = list(range(80_000, 120_000))\n",
    "\n",
    "# result = check_isUnique_with_bisect(list1, list2)\n",
    "# print(len(result))"
   ]
  },
  {
   "cell_type": "code",
   "execution_count": 45,
   "metadata": {},
   "outputs": [
    {
     "name": "stdout",
     "output_type": "stream",
     "text": [
      "0.04415488243103027.\n"
     ]
    }
   ],
   "source": [
    "import time\n",
    "start_time = time.time()\n",
    "check_isUnique_with_bisect(list1, list2)\n",
    "end_time = time.time()\n",
    "print(f\"{end_time - start_time}.\")"
   ]
  },
  {
   "cell_type": "code",
   "execution_count": 51,
   "metadata": {},
   "outputs": [],
   "source": [
    "def get_data_by_pinpp(pinpp_list, table_name, column_name):\n",
    "    config = {\n",
    "        \"host\": \"play.clickhouse.com\",\n",
    "        \"port\": 443,\n",
    "        \"user\": \"explorer\",\n",
    "        \"password\": \"\",\n",
    "        \"secure\": True\n",
    "    }\n",
    "\n",
    "    with clickhouse_connect.get_client(**config) as client:\n",
    "        # Split the pinpp_list into manageable chunks to avoid query size limits\n",
    "        chunk_size = 1000\n",
    "        chunks = [\n",
    "            pinpp_list[i:i + chunk_size] \n",
    "            for i in range(0, len(pinpp_list), chunk_size)\n",
    "        ]\n",
    "\n",
    "        result = []\n",
    "\n",
    "        for chunk in chunks:\n",
    "            placeholders = \", \".join([f\"'{pinpp}'\" for pinpp in chunk])\n",
    "            query = f\"\"\"\n",
    "                SELECT {column_name}\n",
    "                FROM {table_name}\n",
    "                WHERE pinpp IN ({placeholders})\n",
    "            \"\"\"\n",
    "\n",
    "            partial_result = client.query(query)\n",
    "            result.extend(row[0] for row in partial_result.result_rows)\n",
    "\n",
    "        return result"
   ]
  },
  {
   "cell_type": "markdown",
   "metadata": {},
   "source": [
    "# EXTRACTING"
   ]
  },
  {
   "cell_type": "code",
   "execution_count": 16,
   "metadata": {},
   "outputs": [],
   "source": [
    "#Asosiy dataframe, barcha ma'lumotlar to'planadi\n",
    "df_main = pd.DataFrame()"
   ]
  },
  {
   "cell_type": "markdown",
   "metadata": {},
   "source": [
    "### PINPP and is defendant"
   ]
  },
  {
   "cell_type": "code",
   "execution_count": null,
   "metadata": {},
   "outputs": [],
   "source": [
    "#Barcha jinoyatchilarning pinpp ma'lumotlari\n",
    "all_defendants_pinpp = get_all_pinpp_of_defendant()\n",
    "\n",
    "#100k ta normal insonlar pinpp ma'lumotlari\n",
    "normal_people_pinpp_notready = get_pinpp_normal_with_limit(100_000)\n",
    "\n",
    "normal_people_pinpp = check_isUnique_with_bisect(normal_people_pinpp_notready, all_defendants_pinpp)\n",
    "defendants_limited = all_defendants_pinpp[:1000]\n",
    "\n",
    "df_normal = pd.DataFrame(normal_people_pinpp, columns=['pinpp'])\n",
    "df_normal['isdefendant'] = 0\n",
    "df_defendants = pd.DataFrame(defendants_limited, columns=['pinpp'])\n",
    "df_defendants['isdefendant'] = 1\n",
    "\n",
    "df_main = pd.concat([df_normal, df_defendants], ignore_index=True)"
   ]
  },
  {
   "cell_type": "markdown",
   "metadata": {},
   "source": [
    "### GSP data"
   ]
  },
  {
   "cell_type": "code",
   "execution_count": null,
   "metadata": {},
   "outputs": [],
   "source": [
    "birth_year = get_data_by_pinpp(df_main['pinpp'].tolist(), 'gsp_persons', 'birth_year')\n",
    "region_id_birth = get_data_by_pinpp(df_main['pinpp'].tolist(), 'gsp_persons', 'region_id')\n",
    "region_id_living = get_data_by_pinpp(df_main['pinpp'].tolist(), 'gsp_persons', 'living_region_id')\n",
    "nationality_id = get_data_by_pinpp(df_main['pinpp'].tolist(), 'gsp_person', 'nationality_id')\n",
    "sex_id = get_data_by_pinpp(df_main['pinpp'].tolist(), 'gsp_person', \"sex_id\")\n",
    "neighbourhood_id = get_data_by_pinpp(df_main['pinpp'].tolist(), 'cadastre', 'neighborhood_id')\n",
    "\n",
    "df_main[{ 'birth_year': birth_year, 'region_id_birth': region_id_birth, 'region_id_living': region_id_living, 'nationality_id':nationality_id, \"sex_id\":sex_id, \"neighbourhood_id\":neighbourhood_id}]"
   ]
  },
  {
   "cell_type": "code",
   "execution_count": null,
   "metadata": {},
   "outputs": [],
   "source": []
  }
 ],
 "metadata": {
  "kernelspec": {
   "display_name": ".venv",
   "language": "python",
   "name": "python3"
  },
  "language_info": {
   "codemirror_mode": {
    "name": "ipython",
    "version": 3
   },
   "file_extension": ".py",
   "mimetype": "text/x-python",
   "name": "python",
   "nbconvert_exporter": "python",
   "pygments_lexer": "ipython3",
   "version": "3.12.4"
  }
 },
 "nbformat": 4,
 "nbformat_minor": 2
}
