{
 "cells": [
  {
   "cell_type": "code",
   "execution_count": 2,
   "metadata": {},
   "outputs": [],
   "source": [
    "import pandas as pd \n",
    "import clickhouse_connect"
   ]
  },
  {
   "cell_type": "markdown",
   "metadata": {},
   "source": [
    "# GET PINPP"
   ]
  },
  {
   "cell_type": "markdown",
   "metadata": {},
   "source": [
    "### PINPP OF DEFENDANTS"
   ]
  },
  {
   "cell_type": "code",
   "execution_count": 7,
   "metadata": {},
   "outputs": [],
   "source": [
    "def get_pinpp_of_defendant(limit=300):\n",
    "    host = \"play.clickhouse.com\" \n",
    "    port = 443\n",
    "    user = \"explorer\" \n",
    "    password = \"\"\n",
    "    query = f\"\"\"\n",
    "SELECT pinpp FROM defendants\n",
    "WHERE toDate(qamalganlik_sanasi) >= '2024-09-01'\n",
    "ORDER BY qamalganlik_sanasi DESC\n",
    "limit {limit}\n",
    "    \"\"\"\n",
    "    client = clickhouse_connect.get_client(\n",
    "        host=host,\n",
    "        port=port,  \n",
    "        user=user,\n",
    "        password=password,\n",
    "        secure=True  \n",
    "    )\n",
    "    query = query\n",
    "    result = client.query(query)\n",
    "    client.close()\n",
    "    \n",
    "\n",
    "    return result.result_rows\n",
    "\n",
    "result=get_pinpp_of_defendant()\n",
    "\n",
    "df=pd.DataFrame(result, columns=['PINFL', \"QAMALGANLIK SANASI\"])\n",
    "df['JINOYATCHIMI']=1"
   ]
  },
  {
   "cell_type": "markdown",
   "metadata": {},
   "source": []
  },
  {
   "cell_type": "code",
   "execution_count": 19,
   "metadata": {},
   "outputs": [
    {
     "data": {
      "text/html": [
       "<div>\n",
       "<style scoped>\n",
       "    .dataframe tbody tr th:only-of-type {\n",
       "        vertical-align: middle;\n",
       "    }\n",
       "\n",
       "    .dataframe tbody tr th {\n",
       "        vertical-align: top;\n",
       "    }\n",
       "\n",
       "    .dataframe thead th {\n",
       "        text-align: right;\n",
       "    }\n",
       "</style>\n",
       "<table border=\"1\" class=\"dataframe\">\n",
       "  <thead>\n",
       "    <tr style=\"text-align: right;\">\n",
       "      <th></th>\n",
       "      <th>PINFL</th>\n",
       "      <th>QAMALGANLIK SANASI</th>\n",
       "      <th>JINOYATCHIMI</th>\n",
       "    </tr>\n",
       "  </thead>\n",
       "  <tbody>\n",
       "    <tr>\n",
       "      <th>0</th>\n",
       "      <td>14107</td>\n",
       "      <td>2022-03-31</td>\n",
       "      <td>1</td>\n",
       "    </tr>\n",
       "    <tr>\n",
       "      <th>1</th>\n",
       "      <td>14570</td>\n",
       "      <td>2022-03-31</td>\n",
       "      <td>1</td>\n",
       "    </tr>\n",
       "    <tr>\n",
       "      <th>2</th>\n",
       "      <td>10423</td>\n",
       "      <td>2022-03-31</td>\n",
       "      <td>1</td>\n",
       "    </tr>\n",
       "    <tr>\n",
       "      <th>3</th>\n",
       "      <td>11278</td>\n",
       "      <td>2022-03-31</td>\n",
       "      <td>1</td>\n",
       "    </tr>\n",
       "    <tr>\n",
       "      <th>4</th>\n",
       "      <td>11298</td>\n",
       "      <td>2022-03-31</td>\n",
       "      <td>1</td>\n",
       "    </tr>\n",
       "    <tr>\n",
       "      <th>...</th>\n",
       "      <td>...</td>\n",
       "      <td>...</td>\n",
       "      <td>...</td>\n",
       "    </tr>\n",
       "    <tr>\n",
       "      <th>295</th>\n",
       "      <td>14869</td>\n",
       "      <td>2022-03-31</td>\n",
       "      <td>1</td>\n",
       "    </tr>\n",
       "    <tr>\n",
       "      <th>296</th>\n",
       "      <td>13303</td>\n",
       "      <td>2022-03-31</td>\n",
       "      <td>1</td>\n",
       "    </tr>\n",
       "    <tr>\n",
       "      <th>297</th>\n",
       "      <td>14843</td>\n",
       "      <td>2022-03-31</td>\n",
       "      <td>1</td>\n",
       "    </tr>\n",
       "    <tr>\n",
       "      <th>298</th>\n",
       "      <td>12953</td>\n",
       "      <td>2022-03-31</td>\n",
       "      <td>1</td>\n",
       "    </tr>\n",
       "    <tr>\n",
       "      <th>299</th>\n",
       "      <td>13303</td>\n",
       "      <td>2022-03-31</td>\n",
       "      <td>1</td>\n",
       "    </tr>\n",
       "  </tbody>\n",
       "</table>\n",
       "<p>300 rows × 3 columns</p>\n",
       "</div>"
      ],
      "text/plain": [
       "     PINFL QAMALGANLIK SANASI  JINOYATCHIMI\n",
       "0    14107         2022-03-31             1\n",
       "1    14570         2022-03-31             1\n",
       "2    10423         2022-03-31             1\n",
       "3    11278         2022-03-31             1\n",
       "4    11298         2022-03-31             1\n",
       "..     ...                ...           ...\n",
       "295  14869         2022-03-31             1\n",
       "296  13303         2022-03-31             1\n",
       "297  14843         2022-03-31             1\n",
       "298  12953         2022-03-31             1\n",
       "299  13303         2022-03-31             1\n",
       "\n",
       "[300 rows x 3 columns]"
      ]
     },
     "execution_count": 19,
     "metadata": {},
     "output_type": "execute_result"
    }
   ],
   "source": [
    "df"
   ]
  },
  {
   "cell_type": "markdown",
   "metadata": {},
   "source": [
    "### PINPP OF NORMAL HUMANS"
   ]
  },
  {
   "cell_type": "code",
   "execution_count": 45,
   "metadata": {},
   "outputs": [],
   "source": [
    "def get_data_by_pinpp(pinpp_list, column, table_name, host, port, user, password):\n",
    "    client = clickhouse_connect.get_client(\n",
    "        host=host,\n",
    "        port=port,\n",
    "        user=user,\n",
    "        password=password,\n",
    "        secure=True \n",
    "    )\n",
    "\n",
    "    pinpp_list_str = \", \".join([f\"'{pinpp}'\" for pinpp in pinpp_list])\n",
    "\n",
    "    query = f\"\"\"\n",
    "    SELECT {column}\n",
    "    FROM {table_name}\n",
    "    WHERE pinpp IN ({pinpp_list_str})\n",
    "    \"\"\"\n",
    "\n",
    "    result = client.query(query)\n",
    "    \n",
    "    client.close()\n",
    "    \n",
    "    return [row[0] for row in result.result_rows]"
   ]
  },
  {
   "cell_type": "code",
   "execution_count": null,
   "metadata": {},
   "outputs": [],
   "source": []
  }
 ],
 "metadata": {
  "kernelspec": {
   "display_name": ".venv",
   "language": "python",
   "name": "python3"
  },
  "language_info": {
   "codemirror_mode": {
    "name": "ipython",
    "version": 3
   },
   "file_extension": ".py",
   "mimetype": "text/x-python",
   "name": "python",
   "nbconvert_exporter": "python",
   "pygments_lexer": "ipython3",
   "version": "3.12.4"
  }
 },
 "nbformat": 4,
 "nbformat_minor": 2
}
